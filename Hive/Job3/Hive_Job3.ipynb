{
 "cells": [
  {
   "cell_type": "code",
   "execution_count": 12,
   "metadata": {},
   "outputs": [
    {
     "name": "stdout",
     "output_type": "stream",
     "text": [
      "User [A2725IB4YY9JEB]:  ['B0009XLVG0', 'B001GVISJM', 'B006K2ZZ7K']\n",
      "User [A1WO0KGLPR5PV6]:  ['B001GVISJM', 'B006K2ZZ7K']\n",
      "User [ADT0SRK1MGOEU]:  ['B0009XLVG0', 'B006K2ZZ7K']\n",
      "{'B006K2ZZ7K'}\n",
      "-----------------\n",
      "\n",
      "A1WO0KGLPR5PV6\tA2725IB4YY9JEB\t{'B001GVISJM', 'B006K2ZZ7K'}\n",
      "ADT0SRK1MGOEU\tA2725IB4YY9JEB\t{'B006K2ZZ7K', 'B0009XLVG0'}\n"
     ]
    }
   ],
   "source": [
    "# Reducer\n",
    "import itertools\n",
    "with open('./archive/test_30_record.txt') as f:\n",
    "    contents = f.readlines()\n",
    "    \n",
    "#print(contents)\n",
    "product_user_score = {}\n",
    "user_product_score = {}\n",
    "user_similar_taste = {}\n",
    "\n",
    "# input comes from STDIN\n",
    "# note: this is the output from the mapper\n",
    "for line in contents:\n",
    "\n",
    "    # as usual, remove leading/trailing spaces\n",
    "    line = line.strip()\n",
    "\n",
    "    # parse the input elements\n",
    "    productId, userId, score = line.split(\"\\t\")\n",
    "    #print(type(userId), type(productId), type(score))\n",
    "    # convert count (currently a string) to int\n",
    "    try:\n",
    "        score = int(score)\n",
    "    except ValueError:\n",
    "        # count was not a number, in this case is just int\n",
    "        continue\n",
    "    \n",
    "    if score >= 0:\n",
    "        # initialize word that were not seen befor with 0\n",
    "        if userId not in user_product_score:\n",
    "            user_product_score[userId] = set()\n",
    "        # user_product_score[userId][productId] = score\n",
    "        user_product_score[userId].add(productId)\n",
    "    \n",
    "        if productId not in product_user_score:\n",
    "            product_user_score[productId] = set()\n",
    "        #product_user_score[productId][userId] = score\n",
    "    \n",
    "        product_user_score[productId].add(userId)\n",
    "    \n",
    "user_product_score, product_user_score = add_3_items_to_test(user_product_score, product_user_score)\n",
    "\n",
    "#print(set(user_product_score['A2725IB4YY9JEB']).intersection(user_product_score['ADT0SRK1MGOEU']))\n",
    "\n",
    "print('User [A2725IB4YY9JEB]: ', sorted(user_product_score['A2725IB4YY9JEB']))\n",
    "print('User [A1WO0KGLPR5PV6]: ', sorted(user_product_score['A1WO0KGLPR5PV6']))\n",
    "print('User [ADT0SRK1MGOEU]: ', sorted(user_product_score['ADT0SRK1MGOEU']))\n",
    "print(set(user_product_score['ADT0SRK1MGOEU']).intersection(user_product_score['A1WO0KGLPR5PV6']))\n",
    "\n",
    "for productId, usersId in product_user_score.items():\n",
    "    if len(usersId) > 1:\n",
    "        couple_users = list(itertools.combinations(usersId, 2))\n",
    "        for (user1, user2) in couple_users:\n",
    "            # Insersezione tra due liste\n",
    "            product_users_intersection = set(user_product_score[user1]).intersection(user_product_score[user2])\n",
    "            # Più di 3 elementi nell'intersezione e utenti non presenti nella lista di output\n",
    "            if (len(product_users_intersection) > 1) and (((user1, user2) and (user2, user1)) not in user_similar_taste):\n",
    "                user_similar_taste[(user1, user2)] = product_users_intersection\n",
    "\n",
    "print('-----------------\\n')\n",
    "for (user1, user2) in user_similar_taste:\n",
    "    print('%s\\t%s\\t%s' % (user1, user2, user_similar_taste[(user1, user2)]))"
   ]
  },
  {
   "cell_type": "code",
   "execution_count": 9,
   "metadata": {},
   "outputs": [],
   "source": [
    "def add_3_items_to_test(user_product_score, product_user_score):\n",
    "    \n",
    "    user_product_score['ADT0SRK1MGOEU'].add('B0009XLVG0')\n",
    "    product_user_score['B0009XLVG0'].add('ADT0SRK1MGOEU')\n",
    "    \n",
    "    user_product_score['A2725IB4YY9JEB'].add('B006K2ZZ7K')\n",
    "    product_user_score['B006K2ZZ7K'].add('A2725IB4YY9JEB')\n",
    "    \n",
    "    user_product_score['A2725IB4YY9JEB'].add('B001GVISJM')\n",
    "    product_user_score['B001GVISJM'].add('A2725IB4YY9JEB')\n",
    "    \n",
    "    user_product_score['A1WO0KGLPR5PV6'].add('B006K2ZZ7K')\n",
    "    product_user_score['B006K2ZZ7K'].add('A1WO0KGLPR5PV6')\n",
    "    \n",
    "    \n",
    "    return user_product_score, product_user_score"
   ]
  },
  {
   "cell_type": "code",
   "execution_count": null,
   "metadata": {},
   "outputs": [],
   "source": []
  }
 ],
 "metadata": {
  "kernelspec": {
   "display_name": "Python 3",
   "language": "python",
   "name": "python3"
  },
  "language_info": {
   "codemirror_mode": {
    "name": "ipython",
    "version": 3
   },
   "file_extension": ".py",
   "mimetype": "text/x-python",
   "name": "python",
   "nbconvert_exporter": "python",
   "pygments_lexer": "ipython3",
   "version": "3.8.5"
  }
 },
 "nbformat": 4,
 "nbformat_minor": 4
}
